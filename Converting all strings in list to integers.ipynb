{
 "cells": [
  {
   "cell_type": "code",
   "execution_count": 12,
   "id": "4bfa550f",
   "metadata": {},
   "outputs": [
    {
     "name": "stdout",
     "output_type": "stream",
     "text": [
      "Modified list is:  [1, -4, 3, -6, 7]\n"
     ]
    }
   ],
   "source": [
    "lis = ['1', '-4', '3', '-6', '7']\n",
    "res = [eval(i) for i in lis]\n",
    "print(\"Modified list is: \", res)"
   ]
  },
  {
   "cell_type": "code",
   "execution_count": 13,
   "id": "177da97e",
   "metadata": {},
   "outputs": [
    {
     "name": "stdout",
     "output_type": "stream",
     "text": [
      "Modified list is : [1, 4, 3, 6, 7]\n"
     ]
    }
   ],
   "source": [
    "test_list = ['1', '4', '3', '6', '7']\n",
    " \n",
    "# using loop\n",
    "for i in range(0, len(test_list)):\n",
    "    test_list[i] = int(test_list[i])\n",
    "\n",
    "print(\"Modified list is : \" + str(test_list))"
   ]
  },
  {
   "cell_type": "code",
   "execution_count": 14,
   "id": "bded92cb",
   "metadata": {},
   "outputs": [
    {
     "name": "stdout",
     "output_type": "stream",
     "text": [
      "Modified list is : [1, 4, 3, 6, 7]\n"
     ]
    }
   ],
   "source": [
    "est_list = ['1', '4', '3', '6', '7']\n",
    " \n",
    "# using list comprehension to\n",
    "# perform conversion\n",
    "test_list = [int(i) for i in test_list]\n",
    "     \n",
    "# Printing modified list\n",
    "print (\"Modified list is : \" + str(test_list))"
   ]
  },
  {
   "cell_type": "code",
   "execution_count": 15,
   "id": "e8a64bfc",
   "metadata": {},
   "outputs": [
    {
     "name": "stdout",
     "output_type": "stream",
     "text": [
      "Modified list is : [1, 4, 3, 6, 7]\n"
     ]
    }
   ],
   "source": [
    "test_list = ['1', '4', '3', '6', '7']\n",
    " \n",
    "# using map() to\n",
    "# perform conversion\n",
    "test_list = list(map(int, test_list))\n",
    " \n",
    "# Printing modified list\n",
    "print(\"Modified list is : \" + str(test_list))"
   ]
  },
  {
   "cell_type": "code",
   "execution_count": 16,
   "id": "e497f311",
   "metadata": {},
   "outputs": [
    {
     "name": "stdout",
     "output_type": "stream",
     "text": [
      "Modified list is:  [1, 4, 4, 7, 7]\n"
     ]
    }
   ],
   "source": [
    "lis = ['1.1', '4', '3.5', '6.7', '7.2']\n",
    "res = [round(float(i)) for i in lis]\n",
    "print(\"Modified list is: \", res)"
   ]
  },
  {
   "cell_type": "code",
   "execution_count": 17,
   "id": "f93d5983",
   "metadata": {},
   "outputs": [
    {
     "name": "stdout",
     "output_type": "stream",
     "text": [
      "Modified list is:  [1, 4, 3, 6, 7]\n"
     ]
    }
   ],
   "source": [
    "import numpy as np\n",
    "  \n",
    "# Define list of strings\n",
    "my_list = ['1', '4', '3', '6', '7']\n",
    "  \n",
    "# Convert list to numpy array of type int\n",
    "my_array = np.array(my_list, dtype=int)\n",
    "  \n",
    "# Convert numpy array back to list\n",
    "modified_list = list(my_array)\n",
    "  \n",
    "# Print modified list\n",
    "print(\"Modified list is: \", modified_list)"
   ]
  },
  {
   "cell_type": "code",
   "execution_count": 18,
   "id": "af3356a5",
   "metadata": {},
   "outputs": [
    {
     "name": "stdout",
     "output_type": "stream",
     "text": [
      "Modified list is : [1, 4, 3, 6, 7]\n"
     ]
    }
   ],
   "source": [
    "import json\n",
    " \n",
    "test_list = ['1', '4', '3', '6', '7']\n",
    "new_list = json.loads('[' + ','.join(test_list) + ']')\n",
    "print(\"Modified list is : \" + str(new_list))"
   ]
  },
  {
   "cell_type": "code",
   "execution_count": null,
   "id": "1518623b",
   "metadata": {},
   "outputs": [],
   "source": []
  }
 ],
 "metadata": {
  "kernelspec": {
   "display_name": "Python 3 (ipykernel)",
   "language": "python",
   "name": "python3"
  },
  "language_info": {
   "codemirror_mode": {
    "name": "ipython",
    "version": 3
   },
   "file_extension": ".py",
   "mimetype": "text/x-python",
   "name": "python",
   "nbconvert_exporter": "python",
   "pygments_lexer": "ipython3",
   "version": "3.9.17"
  }
 },
 "nbformat": 4,
 "nbformat_minor": 5
}
